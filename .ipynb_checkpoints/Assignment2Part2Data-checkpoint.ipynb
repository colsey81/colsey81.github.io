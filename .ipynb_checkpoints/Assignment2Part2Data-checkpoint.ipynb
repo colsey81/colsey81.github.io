{
 "cells": [
  {
   "cell_type": "code",
   "execution_count": 2,
   "metadata": {
    "collapsed": false
   },
   "outputs": [],
   "source": [
    "import pandas as pd\n",
    "# Import crime data\n",
    "crime2003 = pd.read_csv('SFPD_Incidents_-_from_1_January_2003.csv')"
   ]
  },
  {
   "cell_type": "code",
   "execution_count": 4,
   "metadata": {
    "collapsed": false
   },
   "outputs": [],
   "source": [
    "# Get Prostitution Crimes Only\n",
    "prostitution2003 = crime2003[crime2003['Category'] == \"PROSTITUTION\"]"
   ]
  },
  {
   "cell_type": "code",
   "execution_count": 228,
   "metadata": {
    "collapsed": false
   },
   "outputs": [],
   "source": [
    "#Get Lat and Lon Values\n",
    "prostitutionStep = prostitution2003[[\"X\",\"Y\"]]\n",
    "#Remove Outliers\n",
    "prostitution = prostitutionStep[(prostitutionStep['Y'] < 50)]"
   ]
  },
  {
   "cell_type": "code",
   "execution_count": 229,
   "metadata": {
    "collapsed": false
   },
   "outputs": [],
   "source": [
    "# Rename Columns\n",
    "prostitution.columns = ['lon', 'lat']"
   ]
  },
  {
   "cell_type": "code",
   "execution_count": 230,
   "metadata": {
    "collapsed": false
   },
   "outputs": [],
   "source": [
    "import numpy as np\n",
    "from sklearn.cluster import KMeans\n",
    "\n",
    "# Prepare Data for kmeans\n",
    "f1 = prostitution['lat'].values\n",
    "f2 = prostitution['lon'].values\n",
    "\n",
    "X=np.matrix(zip(f1,f2))\n",
    "numK = range(1,7)\n",
    "results = []\n",
    "\n",
    "for i in numK:\n",
    "        results.append(KMeans(n_clusters=i).fit(X))"
   ]
  },
  {
   "cell_type": "code",
   "execution_count": null,
   "metadata": {
    "collapsed": true
   },
   "outputs": [],
   "source": [
    "#Create new columns and assign data from Kmeans\n",
    "prostitution[\"cc\"] = results[0].labels_ # Array of 0's\n",
    "prostitution[\"k2\"] = results[1].labels_\n",
    "prostitution[\"k3\"] = results[2].labels_\n",
    "prostitution[\"k4\"] = results[3].labels_\n",
    "prostitution[\"k5\"] = results[4].labels_\n",
    "prostitution[\"k6\"] = results[5].labels_"
   ]
  },
  {
   "cell_type": "code",
   "execution_count": null,
   "metadata": {
    "collapsed": true
   },
   "outputs": [],
   "source": [
    "#('lon', 'lat', 'k2','k3','k4','k5','k6','CC')\n",
    "# Add cluster center data to dataframe\n",
    "for i in range(1,6):\n",
    "    for j, cluster in enumerate(results[i].cluster_centers_) :\n",
    "        rowAdd = [cluster[1],cluster[0],1,0,0,0,0,0]\n",
    "        rowAdd[i+2] = j;\n",
    "        rowAdd[2] = i+1;\n",
    "        prostitution.loc[len(prostitution)] = rowAdd"
   ]
  },
  {
   "cell_type": "code",
   "execution_count": 225,
   "metadata": {
    "collapsed": true
   },
   "outputs": [],
   "source": [
    "# Export to CSV file\n",
    "prostitution.to_csv(\"Assignment2.csv\", sep=',')"
   ]
  }
 ],
 "metadata": {
  "kernelspec": {
   "display_name": "Python 2",
   "language": "python",
   "name": "python2"
  },
  "language_info": {
   "codemirror_mode": {
    "name": "ipython",
    "version": 2
   },
   "file_extension": ".py",
   "mimetype": "text/x-python",
   "name": "python",
   "nbconvert_exporter": "python",
   "pygments_lexer": "ipython2",
   "version": "2.7.13"
  }
 },
 "nbformat": 4,
 "nbformat_minor": 2
}
