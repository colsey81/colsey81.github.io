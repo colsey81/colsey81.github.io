{
 "cells": [
  {
   "cell_type": "code",
   "execution_count": 58,
   "metadata": {
    "collapsed": false
   },
   "outputs": [],
   "source": [
    "import pandas as pd\n",
    "# Import data\n",
    "crime2015 = pd.read_csv('SFPD_Incidents_-_Previous_Year__2015_.csv')\n",
    "crime2003 = pd.read_csv('SFPD_Incidents_-_from_1_January_2003.csv')"
   ]
  },
  {
   "cell_type": "code",
   "execution_count": 81,
   "metadata": {
    "collapsed": false
   },
   "outputs": [],
   "source": [
    "# Create Datetime to easily sort panda dataframe by dates\n",
    "crime2003['Datetime'] = pd.to_datetime(crime2003['Date'])\n",
    "crime2003 = crime2003.set_index('Datetime')"
   ]
  },
  {
   "cell_type": "code",
   "execution_count": 110,
   "metadata": {
    "collapsed": false
   },
   "outputs": [],
   "source": [
    "# Extract data for 2003\n",
    "crimeSort2003 = crime2003['20030101':'20031231']"
   ]
  },
  {
   "cell_type": "code",
   "execution_count": 106,
   "metadata": {
    "collapsed": false
   },
   "outputs": [],
   "source": [
    "# Extract prostitution crimes\n",
    "prostitution2015 = crime2015[crime2015['Category'] == \"PROSTITUTION\"]\n",
    "prostitution2003 = crimeSort2003[crimeSort2003['Category'] == \"PROSTITUTION\"]\n",
    "#Extract Vehicle theft crimes\n",
    "vehicle2015 = crime2015[crime2015['Category'] == \"VEHICLE THEFT\"]\n",
    "vehicle2003 = crimeSort2003[crimeSort2003['Category'] == \"VEHICLE THEFT\"]"
   ]
  },
  {
   "cell_type": "code",
   "execution_count": 107,
   "metadata": {
    "collapsed": false
   },
   "outputs": [],
   "source": [
    "# Extract the Districts from the crime dataframes\n",
    "# Prostution Districts\n",
    "prostitution2003 = prostitution2003['PdDistrict']\n",
    "prostitution2015 = prostitution2015['PdDistrict']\n",
    "# Vehicle crime districts\n",
    "vehicle2015 = vehicle2015['PdDistrict']\n",
    "vehicle2003 = vehicle2003['PdDistrict']\n",
    "# Total crime for each district\n",
    "total2003 = crimeSort2003['PdDistrict']\n",
    "total2015 = crime2015['PdDistrict']"
   ]
  },
  {
   "cell_type": "code",
   "execution_count": 111,
   "metadata": {
    "collapsed": false
   },
   "outputs": [],
   "source": [
    "# Concat data sets in to one dataframe\n",
    "df2015 = pd.concat([total2015.value_counts(),vehicle2015.value_counts(),prostitution2015.value_counts()], axis=1)\n",
    "df2003 = pd.concat([total2003.value_counts(),vehicle2003.value_counts(),prostitution2003.value_counts()], axis=1)\n",
    "# Rename columns with correct headings\n",
    "df2015.columns = ['total', 'vehicle','prostitution']\n",
    "df2003.columns = ['total', 'vehicle','prostitution']\n",
    "df2015.index.name = 'pdDistrict'\n",
    "df2003.index.name = 'pdDistrict'\n",
    "# Write data to CSV file\n",
    "df2015.to_csv(\"dataWeek715.csv\", sep=',')\n",
    "df2003.to_csv(\"dataWeek703.csv\", sep=',') "
   ]
  },
  {
   "cell_type": "code",
   "execution_count": null,
   "metadata": {
    "collapsed": true
   },
   "outputs": [],
   "source": []
  }
 ],
 "metadata": {
  "kernelspec": {
   "display_name": "Python 2",
   "language": "python",
   "name": "python2"
  },
  "language_info": {
   "codemirror_mode": {
    "name": "ipython",
    "version": 2
   },
   "file_extension": ".py",
   "mimetype": "text/x-python",
   "name": "python",
   "nbconvert_exporter": "python",
   "pygments_lexer": "ipython2",
   "version": "2.7.13"
  }
 },
 "nbformat": 4,
 "nbformat_minor": 2
}
